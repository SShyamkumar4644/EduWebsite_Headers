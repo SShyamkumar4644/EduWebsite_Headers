{
  "cells": [
    {
      "cell_type": "code",
      "execution_count": 1,
      "metadata": {
        "id": "tB8nc06AvZTk"
      },
      "outputs": [
        {
          "ename": "ModuleNotFoundError",
          "evalue": "No module named 'pandas'",
          "output_type": "error",
          "traceback": [
            "\u001b[1;31m---------------------------------------------------------------------------\u001b[0m",
            "\u001b[1;31mModuleNotFoundError\u001b[0m                       Traceback (most recent call last)",
            "Cell \u001b[1;32mIn[1], line 1\u001b[0m\n\u001b[1;32m----> 1\u001b[0m \u001b[38;5;28;01mimport\u001b[39;00m\u001b[38;5;250m \u001b[39m\u001b[38;5;21;01mpandas\u001b[39;00m\u001b[38;5;250m \u001b[39m\u001b[38;5;28;01mas\u001b[39;00m\u001b[38;5;250m \u001b[39m\u001b[38;5;21;01mpd\u001b[39;00m\n\u001b[0;32m      2\u001b[0m \u001b[38;5;28;01mfrom\u001b[39;00m\u001b[38;5;250m \u001b[39m\u001b[38;5;21;01msklearn\u001b[39;00m\u001b[38;5;21;01m.\u001b[39;00m\u001b[38;5;21;01mmodel_selection\u001b[39;00m\u001b[38;5;250m \u001b[39m\u001b[38;5;28;01mimport\u001b[39;00m train_test_split\n\u001b[0;32m      3\u001b[0m \u001b[38;5;28;01mfrom\u001b[39;00m\u001b[38;5;250m \u001b[39m\u001b[38;5;21;01msklearn\u001b[39;00m\u001b[38;5;21;01m.\u001b[39;00m\u001b[38;5;21;01mensemble\u001b[39;00m\u001b[38;5;250m \u001b[39m\u001b[38;5;28;01mimport\u001b[39;00m RandomForestClassifier\n",
            "\u001b[1;31mModuleNotFoundError\u001b[0m: No module named 'pandas'"
          ]
        }
      ],
      "source": [
        "import pandas as pd\n",
        "from sklearn.model_selection import train_test_split\n",
        "from sklearn.ensemble import RandomForestClassifier\n",
        "from sklearn.metrics import classification_report, confusion_matrix"
      ]
    },
    {
      "cell_type": "code",
      "execution_count": null,
      "metadata": {
        "id": "AJFzmbEXv1Ky"
      },
      "outputs": [],
      "source": [
        "# 🔹 Load the dataset (Karnataka + Tamil Nadu)\n",
        "df = pd.read_csv('Karnataka_Colleges.csv')  # Make sure both datasets are merged"
      ]
    },
    {
      "cell_type": "code",
      "execution_count": null,
      "metadata": {
        "id": "LGEzNVLuwAGI"
      },
      "outputs": [],
      "source": [
        "# 🔹 Fill any missing values\n",
        "df.fillna(0, inplace=True)"
      ]
    },
    {
      "cell_type": "code",
      "execution_count": null,
      "metadata": {
        "id": "rBvhduN4wB3B"
      },
      "outputs": [],
      "source": [
        "# 🔹 Convert categorical XFO and TLS_Version to numeric (label encoding)\n",
        "df['XFO'] = df['XFO'].astype(str).astype('category').cat.codes\n",
        "df['TLS_Version'] = df['TLS_Version'].astype(str).astype('category').cat.codes"
      ]
    },
    {
      "cell_type": "code",
      "execution_count": null,
      "metadata": {
        "id": "Zp5BZysuwD4d"
      },
      "outputs": [],
      "source": [
        "# 🔹 Features to consider (use only header-related columns)\n",
        "features = ['HSTS', 'HSTS_max_age', 'CSP', 'XCTO', 'XFO',\n",
        "            'Referrer_Policy', 'Perm_Policy', 'TLS_Version',\n",
        "            'Cookie_HttpOnly', 'Cookie_Secure']\n",
        "\n",
        "X = df[features]"
      ]
    },
    {
      "cell_type": "code",
      "execution_count": null,
      "metadata": {
        "id": "j2yPuwdRwF1N"
      },
      "outputs": [],
      "source": [
        "# Ensure all feature columns are numeric (0/1 or integers)\n",
        "X = X.apply(pd.to_numeric, errors='coerce').fillna(0).astype(int)\n",
        "\n",
        "# Now you can calculate the security score safely\n",
        "df['Security_Score'] = X.sum(axis=1)\n"
      ]
    },
    {
      "cell_type": "code",
      "execution_count": null,
      "metadata": {
        "id": "vAlMqyCxwOs_"
      },
      "outputs": [],
      "source": [
        "# 🔹 Label: If security score >= 4 → Secure (1), else Not Secure (0)\n",
        "df['Label'] = df['Security_Score'].apply(lambda x: 1 if x >= 4 else 0)\n",
        "y = df['Label']"
      ]
    },
    {
      "cell_type": "code",
      "execution_count": null,
      "metadata": {
        "id": "Vz1XDK8twRs4"
      },
      "outputs": [],
      "source": [
        "# 🔹 Split dataset\n",
        "X_train, X_test, y_train, y_test = train_test_split(X, y, test_size=0.3, random_state=42)"
      ]
    },
    {
      "cell_type": "code",
      "execution_count": null,
      "metadata": {
        "colab": {
          "base_uri": "https://localhost:8080/",
          "height": 80
        },
        "id": "iVaaNLjewUFA",
        "outputId": "e1cf1e6e-15d6-4f9e-9f06-46059bfb0ab7"
      },
      "outputs": [],
      "source": [
        "# 🔹 Train a Random Forest classifier\n",
        "model = RandomForestClassifier(n_estimators=100, random_state=42)\n",
        "model.fit(X_train, y_train)"
      ]
    },
    {
      "cell_type": "code",
      "execution_count": null,
      "metadata": {
        "id": "BDq1bP9XwWIX"
      },
      "outputs": [],
      "source": [
        "# 🔹 Predict\n",
        "y_pred = model.predict(X_test)"
      ]
    },
    {
      "cell_type": "code",
      "execution_count": null,
      "metadata": {
        "colab": {
          "base_uri": "https://localhost:8080/"
        },
        "id": "LIwzXDxiwXtR",
        "outputId": "cb99c6ee-96f0-4ea9-8e11-5531f4d509c7"
      },
      "outputs": [],
      "source": [
        "# 🔹 Evaluate\n",
        "print(\"\\n✅ Classification Report:\\n\")\n",
        "print(classification_report(y_test, y_pred))"
      ]
    },
    {
      "cell_type": "code",
      "execution_count": null,
      "metadata": {
        "colab": {
          "base_uri": "https://localhost:8080/"
        },
        "id": "T_yci2X-wZ9L",
        "outputId": "7567f8b0-8e97-4f83-9e42-aaeb08a10d5c"
      },
      "outputs": [],
      "source": [
        "print(\"\\n📊 Confusion Matrix:\\n\")\n",
        "print(confusion_matrix(y_test, y_pred))"
      ]
    },
    {
      "cell_type": "code",
      "execution_count": null,
      "metadata": {
        "colab": {
          "base_uri": "https://localhost:8080/",
          "height": 487
        },
        "id": "xkHOgxwBwdNy",
        "outputId": "ad2a439a-9350-4bc9-b8e1-f867dfacada2"
      },
      "outputs": [],
      "source": [
        "import matplotlib.pyplot as plt\n",
        "\n",
        "# 🔹 Feature importance\n",
        "importances = model.feature_importances_\n",
        "feature_names = X.columns\n",
        "\n",
        "# 🔹 Bar Plot\n",
        "plt.figure(figsize=(10, 5))\n",
        "plt.barh(feature_names, importances)\n",
        "plt.xlabel(\"Feature Importance\")\n",
        "plt.title(\"Which Headers Affect Security Classification Most\")\n",
        "plt.show()\n"
      ]
    }
  ],
  "metadata": {
    "colab": {
      "provenance": []
    },
    "kernelspec": {
      "display_name": ".venv",
      "language": "python",
      "name": "python3"
    },
    "language_info": {
      "name": "python",
      "version": "3.8.3"
    }
  },
  "nbformat": 4,
  "nbformat_minor": 0
}
